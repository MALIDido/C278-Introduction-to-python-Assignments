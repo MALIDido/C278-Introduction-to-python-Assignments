{
 "cells": [
  {
   "cell_type": "markdown",
   "id": "28b89582",
   "metadata": {},
   "source": [
    "# Assignment: Text Count Analysis\n",
    "\n",
    "### Mohammed Ali\n",
    "### 2022-06-23"
   ]
  },
  {
   "cell_type": "code",
   "execution_count": 1,
   "id": "5de1eba7",
   "metadata": {},
   "outputs": [
    {
     "data": {
      "text/plain": [
       "'imagine a vast sheet of paper on which straight lines, triangles, squares, pentagons, hexagons, and other figures, instead of remaining fixed in their places, move freely about, on or in the surface, but without the power of rising above or sinking below it, very much like shadows - only hard and with luminous edges - and you will then have a pretty correct notion of my country and countrymen. alas, a few years ago, i should have said \"my universe\": but now my mind has been opened to higher views of things.'"
      ]
     },
     "execution_count": 1,
     "metadata": {},
     "output_type": "execute_result"
    }
   ],
   "source": [
    "#Step 1\n",
    "#store the text in lower case\n",
    "\n",
    "s = \"\"\"Imagine a vast sheet of paper on which straight Lines, Triangles, Squares, Pentagons, Hexagons, and other figures, instead of remaining fixed in their places, move freely about, on or in the surface, but without the power of rising above or sinking below it, very much like shadows - only hard and with luminous edges - and you will then have a pretty correct notion of my country and countrymen. Alas, a few years ago, I should have said \"my universe\": but now my mind has been opened to higher views of things.\"\"\"\n",
    "\n",
    "s_lower= s.lower()\n",
    "s_lower"
   ]
  },
  {
   "cell_type": "code",
   "execution_count": 2,
   "id": "fb36a4cf",
   "metadata": {},
   "outputs": [
    {
     "name": "stdout",
     "output_type": "stream",
     "text": [
      "['imagine', 'a', 'vast', 'sheet', 'of', 'paper', 'on', 'which', 'straight', 'lines,', 'triangles,', 'squares,', 'pentagons,', 'hexagons,', 'and', 'other', 'figures,', 'instead', 'of', 'remaining', 'fixed', 'in', 'their', 'places,', 'move', 'freely', 'about,', 'on', 'or', 'in', 'the', 'surface,', 'but', 'without', 'the', 'power', 'of', 'rising', 'above', 'or', 'sinking', 'below', 'it,', 'very', 'much', 'like', 'shadows', '-', 'only', 'hard', 'and', 'with', 'luminous', 'edges', '-', 'and', 'you', 'will', 'then', 'have', 'a', 'pretty', 'correct', 'notion', 'of', 'my', 'country', 'and', 'countrymen.', 'alas,', 'a', 'few', 'years', 'ago,', 'i', 'should', 'have', 'said', '\"my', 'universe\":', 'but', 'now', 'my', 'mind', 'has', 'been', 'opened', 'to', 'higher', 'views', 'of', 'things.']\n"
     ]
    }
   ],
   "source": [
    "#Step 2\n",
    "#split the strings\n",
    "\n",
    "words=list()\n",
    "\n",
    "words=list(s_lower.split())\n",
    "\n",
    "print(words)"
   ]
  },
  {
   "cell_type": "code",
   "execution_count": 3,
   "id": "34758ee0",
   "metadata": {},
   "outputs": [
    {
     "name": "stdout",
     "output_type": "stream",
     "text": [
      "The length of the strings = 92\n"
     ]
    }
   ],
   "source": [
    "#Step 3\n",
    "\n",
    "print(\"The length of the strings = {}\".format(len(words)))"
   ]
  },
  {
   "cell_type": "code",
   "execution_count": 18,
   "id": "09445ee5",
   "metadata": {},
   "outputs": [
    {
     "name": "stdout",
     "output_type": "stream",
     "text": [
      "The count of the distinct strings = 75\n"
     ]
    }
   ],
   "source": [
    "#Step 4\n",
    "def count_dist(words):\n",
    "    words_set= set(words)\n",
    "\n",
    "    print(\"The count of the distinct strings = {}\".format(len(words_set)))\n",
    "count_dist(words)"
   ]
  },
  {
   "cell_type": "code",
   "execution_count": 16,
   "id": "4c890696",
   "metadata": {},
   "outputs": [
    {
     "name": "stdout",
     "output_type": "stream",
     "text": [
      "{'imagine': 1, 'a': 3, 'vast': 1, 'sheet': 1, 'of': 5, 'paper': 1, 'on': 2, 'which': 1, 'straight': 1, 'lines,': 1, 'triangles,': 1, 'squares,': 1, 'pentagons,': 1, 'hexagons,': 1, 'and': 4, 'other': 1, 'figures,': 1, 'instead': 1, 'remaining': 1, 'fixed': 1, 'in': 2, 'their': 1, 'places,': 1, 'move': 1, 'freely': 1, 'about,': 1, 'or': 2, 'the': 2, 'surface,': 1, 'but': 2, 'without': 1, 'power': 1, 'rising': 1, 'above': 1, 'sinking': 1, 'below': 1, 'it,': 1, 'very': 1, 'much': 1, 'like': 1, 'shadows': 1, '-': 2, 'only': 1, 'hard': 1, 'with': 1, 'luminous': 1, 'edges': 1, 'you': 1, 'will': 1, 'then': 1, 'have': 2, 'pretty': 1, 'correct': 1, 'notion': 1, 'my': 2, 'country': 1, 'countrymen.': 1, 'alas,': 1, 'few': 1, 'years': 1, 'ago,': 1, 'i': 1, 'should': 1, 'said': 1, '\"my': 1, 'universe\":': 1, 'now': 1, 'mind': 1, 'has': 1, 'been': 1, 'opened': 1, 'to': 1, 'higher': 1, 'views': 1, 'things.': 1}\n"
     ]
    }
   ],
   "source": [
    "#Step 5\n",
    "import collections\n",
    "#we define w as a list of words \n",
    "w = [\"haythem\",\"is\",\"eating\",\"tacos.\",\"haythem\",\"loves\",\"tacos\",\"\",\":\"]\n",
    " \n",
    "#we define an empty dictionary that will hold the token/frequency key-value pair\n",
    "#  key:word, value:int that corresponds to the frequency of occurrence\n",
    "def freq(words):\n",
    "    freq_occur = dict()\n",
    "    freq_occur = {x:words.count(x) for x in words}\n",
    "    return freq_occur\n",
    "\n",
    "\n",
    "#your code goes here\n",
    "\n",
    " \n",
    "print(freq(words))\n"
   ]
  },
  {
   "cell_type": "code",
   "execution_count": 35,
   "id": "e5ebb6a8",
   "metadata": {},
   "outputs": [
    {
     "name": "stdout",
     "output_type": "stream",
     "text": [
      "['!', '\"', '#', '$', '%', '&', \"'\", '(', ')', '*', '+', ',', '-', '.', '/', ':', ';', '<', '=', '>', '?', '@', '[', '\\\\', ']', '^', '_', '`', '{', '|', '}', '~']\n",
      "['haythem', 'is', 'eating', 'tacos', 'haythem', 'loves', 'tacos']\n",
      "7\n",
      "['imagine', 'a', 'vast', 'sheet', 'of', 'paper', 'on', 'which', 'straight', 'lines', 'triangles', 'squares', 'pentagons', 'hexagons', 'and', 'other', 'figures', 'instead', 'of', 'remaining', 'fixed', 'in', 'their', 'places', 'move', 'freely', 'about', 'on', 'or', 'in', 'the', 'surface', 'but', 'without', 'the', 'power', 'of', 'rising', 'above', 'or', 'sinking', 'below', 'it', 'very', 'much', 'like', 'shadows', 'only', 'hard', 'and', 'with', 'luminous', 'edges', 'and', 'you', 'will', 'then', 'have', 'a', 'pretty', 'correct', 'notion', 'of', 'my', 'country', 'and', 'countrymen', 'alas', 'a', 'few', 'years', 'ago', 'i', 'should', 'have', 'said', 'my', 'universe', 'but', 'now', 'my', 'mind', 'has', 'been', 'opened', 'to', 'higher', 'views', 'of', 'things']\n",
      "90\n",
      "The count of the distinct strings = 73\n",
      "{'imagine': 1, 'a': 3, 'vast': 1, 'sheet': 1, 'of': 5, 'paper': 1, 'on': 2, 'which': 1, 'straight': 1, 'lines': 1, 'triangles': 1, 'squares': 1, 'pentagons': 1, 'hexagons': 1, 'and': 4, 'other': 1, 'figures': 1, 'instead': 1, 'remaining': 1, 'fixed': 1, 'in': 2, 'their': 1, 'places': 1, 'move': 1, 'freely': 1, 'about': 1, 'or': 2, 'the': 2, 'surface': 1, 'but': 2, 'without': 1, 'power': 1, 'rising': 1, 'above': 1, 'sinking': 1, 'below': 1, 'it': 1, 'very': 1, 'much': 1, 'like': 1, 'shadows': 1, 'only': 1, 'hard': 1, 'with': 1, 'luminous': 1, 'edges': 1, 'you': 1, 'will': 1, 'then': 1, 'have': 2, 'pretty': 1, 'correct': 1, 'notion': 1, 'my': 3, 'country': 1, 'countrymen': 1, 'alas': 1, 'few': 1, 'years': 1, 'ago': 1, 'i': 1, 'should': 1, 'said': 1, 'universe': 1, 'now': 1, 'mind': 1, 'has': 1, 'been': 1, 'opened': 1, 'to': 1, 'higher': 1, 'views': 1, 'things': 1}\n"
     ]
    }
   ],
   "source": [
    "#Step 6\n",
    "\n",
    "import string #import the string module \n",
    "#use the built-in string.punctuation method to create a list of all punctuation marks\n",
    "punctuation_list =  list(string.punctuation)\n",
    "#display the punctuation_list\n",
    "print(punctuation_list)\n",
    " \n",
    "w = [\"haythem!\",\"is\",\"eating\",\"tacos.\",\".haythem\",\"loves\",\"tacos\",\"\",\":\"]\n",
    "def clean_punc(w):\n",
    "    #w_clean = list()\n",
    "    ##do not change the code above this line.\n",
    "    #for word in w:\n",
    "    #    if word==\"\":\n",
    "    #        w.remove(word)\n",
    "    #    else:\n",
    "    #        for letter in word:\n",
    "    #            if letter in punctuation_list:\n",
    "    #                word = word.replace(letter,\"\")   \n",
    "    #        w_clean.append(word)\n",
    "    w_clean = [''.join(letter for letter in word if letter not in punctuation_list) for word in w if word]\n",
    "    w_clean = [''.join(letter for letter in word if letter not in punctuation_list) for word in w_clean if word]\n",
    "    \n",
    "    return w_clean\n",
    "#your code goes here \n",
    "\n",
    "w_clean = clean_punc(w)\n",
    "print(w_clean)\n",
    "print(len(w_clean))\n",
    "\n",
    "# for all s\n",
    "\n",
    "s_clean = clean_punc(words)\n",
    "print(s_clean)\n",
    "print(len(s_clean))\n",
    "count_dist(s_clean)\n",
    "print(freq(s_clean))\n",
    "\n",
    "\n"
   ]
  },
  {
   "cell_type": "code",
   "execution_count": null,
   "id": "427cd21a",
   "metadata": {},
   "outputs": [],
   "source": []
  }
 ],
 "metadata": {
  "kernelspec": {
   "display_name": "Python 3",
   "language": "python",
   "name": "python3"
  },
  "language_info": {
   "codemirror_mode": {
    "name": "ipython",
    "version": 3
   },
   "file_extension": ".py",
   "mimetype": "text/x-python",
   "name": "python",
   "nbconvert_exporter": "python",
   "pygments_lexer": "ipython3",
   "version": "3.8.8"
  }
 },
 "nbformat": 4,
 "nbformat_minor": 5
}
