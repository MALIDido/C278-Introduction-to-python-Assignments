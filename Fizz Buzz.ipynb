{
 "cells": [
  {
   "cell_type": "markdown",
   "id": "ca9fed26",
   "metadata": {},
   "source": [
    "# Fizz Buzz\n",
    "\n",
    "## Mohammed Ali\n",
    "\n",
    "## 2022-06-22"
   ]
  },
  {
   "cell_type": "code",
   "execution_count": 7,
   "id": "f91106b8",
   "metadata": {},
   "outputs": [
    {
     "name": "stdout",
     "output_type": "stream",
     "text": [
      "How many fizzing and buzzing units do you need in your life?  7\n",
      "0\n",
      "1\n",
      "2\n",
      "fizz\n",
      "4\n",
      "buzz\n",
      "fizz\n",
      "7\n",
      "8\n",
      "fizz\n",
      "buzz\n",
      "11\n",
      "fizz\n",
      "13\n",
      "14\n",
      "fizz buzz\n",
      "TRADITION!!\n"
     ]
    }
   ],
   "source": [
    "Num= int(input(\"How many fizzing and buzzing units do you need in your life?  \"))\n",
    "\n",
    "count=0\n",
    "stop_count=Num #stop the loop when fizz or buzz counted (Num) times.\n",
    "\n",
    "while stop_count>0:\n",
    "    if count==0:\n",
    "        print(count)\n",
    "    elif count%3==0 and count%5!=0:\n",
    "        print(\"fizz\")\n",
    "        stop_count-=1\n",
    "    elif count%3!=0 and count%5==0:\n",
    "        print(\"buzz\")\n",
    "        stop_count-=1\n",
    "    elif count%3==0 and count%5==0:\n",
    "        print(\"fizz buzz\")\n",
    "        stop_count-=1\n",
    "    else:\n",
    "        print(count)\n",
    "    count+=1\n",
    "print(\"TRADITION!!\")\n"
   ]
  },
  {
   "cell_type": "code",
   "execution_count": null,
   "id": "6c7da62f",
   "metadata": {},
   "outputs": [],
   "source": []
  }
 ],
 "metadata": {
  "kernelspec": {
   "display_name": "Python 3",
   "language": "python",
   "name": "python3"
  },
  "language_info": {
   "codemirror_mode": {
    "name": "ipython",
    "version": 3
   },
   "file_extension": ".py",
   "mimetype": "text/x-python",
   "name": "python",
   "nbconvert_exporter": "python",
   "pygments_lexer": "ipython3",
   "version": "3.8.8"
  }
 },
 "nbformat": 4,
 "nbformat_minor": 5
}
