{
 "cells": [
  {
   "cell_type": "markdown",
   "id": "c07cecd7",
   "metadata": {},
   "source": [
    "# Assignment: Coffee Shop\n",
    "\n",
    "\n",
    "### Mohammed Ali\n",
    "\n",
    "### 2022-06-21\n"
   ]
  },
  {
   "cell_type": "markdown",
   "id": "2e2f3eb7",
   "metadata": {},
   "source": [
    "#### Pseudocode\n",
    "\n",
    "Output: Calculate the cost of a custom cup of coffee at a gourmet coffee shop.\n",
    "\n",
    "Input: the size of the cup, the type of coffee selected, and flavors that can be added to the coffee.\n",
    "\n",
    "steps:\n",
    "\n",
    "1. Get the size of the coffee the user want: small, medium, or large. \n",
    "2. The input accepts any letter case: upper, lower or complex.\n",
    "3. Get the type of coffee the user wants: brewed, espresso, or cold brew.\n",
    "4. The input accepts any letter case: upper, lower or complex.\n",
    "5. See if the user wants a flavor.\n",
    "6. The input accepts any letter case: upper, lower or complex.\n",
    "7. If yes, get the flavoring of the coffee the user want: hazelnut, vanilla, or caramel.\n",
    "8. The input accepts any letter case: upper, lower, or complex.\n",
    "9. Print a summary of the order.\n",
    "10. Calculate the total using the condition statement based on the user choice and print it.\n",
    "11. Calculate the total + 15% tip from the total and print it."
   ]
  },
  {
   "cell_type": "code",
   "execution_count": 1,
   "id": "9a651068",
   "metadata": {},
   "outputs": [],
   "source": [
    "# To check if the input coffee size is one of the given options\n",
    "def check_size(coffee_size):\n",
    "    coffee_size=coffee_size.lower()\n",
    "    if coffee_size not in [\"small\", \"medium\", \"large\"]:\n",
    "        coffee_size= input(\"please choose between 'small', 'medium' or 'large' for the coffee size\\n\")\n",
    "        check_size(coffee_size)\n",
    "    else:\n",
    "        return coffee_size"
   ]
  },
  {
   "cell_type": "code",
   "execution_count": 2,
   "id": "19414c2a",
   "metadata": {},
   "outputs": [],
   "source": [
    "# To check if the input coffee type is one of the given options\n",
    "def check_type(coffee_type):\n",
    "    coffee_type=coffee_type.lower()\n",
    "    if coffee_type not in [\"brewed\", \"espresso\", \"cold brew\", \"cold press\"]:\n",
    "        coffee_type= input(\"please choose between 'brewed', 'espresso', 'cold brew', for the coffee type\\n\")\n",
    "        check_type(coffee_type)\n",
    "    else:\n",
    "        return coffee_type"
   ]
  },
  {
   "cell_type": "code",
   "execution_count": 3,
   "id": "403cde9f",
   "metadata": {},
   "outputs": [],
   "source": [
    "# To check if the input coffee flavour is one of the given options\n",
    "def check_flavor(coffee_flavor):\n",
    "    coffee_flavor=coffee_flavor.lower()\n",
    "    if coffee_flavor not in [\"yes\", \"no\"]:\n",
    "        coffee_flavor= input(\"please choose 'Yes' or 'No'\\n\")\n",
    "        check_flavor(coffee_flavor)\n",
    "    else:\n",
    "        return coffee_flavor"
   ]
  },
  {
   "cell_type": "code",
   "execution_count": 4,
   "id": "8185b819",
   "metadata": {},
   "outputs": [],
   "source": [
    "# calculate the price of each choice\n",
    "def get_price(coffee_size, coffee_type, coffee_flavor):\n",
    "    \n",
    "    #coffee size price\n",
    "    if coffee_size=='small':\n",
    "        coffee_per_size_price=2\n",
    "    elif coffee_size=='medium':\n",
    "        coffee_per_size_price=3\n",
    "    else:\n",
    "        coffee_per_size_price=4\n",
    "        \n",
    "    #coffee type price\n",
    "    if coffee_type=='brewed':\n",
    "        coffee_per_type_price=0\n",
    "    elif coffee_type=='espresso':\n",
    "        coffee_per_type_price=0.5\n",
    "    else:\n",
    "        coffee_per_type_price=1\n",
    "        \n",
    "    #coffee flavor price\n",
    "    if coffee_flavor=='no':\n",
    "        coffee_per_flavor_price=0\n",
    "    else:\n",
    "        coffee_per_flavor_price=0.5\n",
    "        \n",
    "    cup_price = coffee_per_size_price+coffee_per_type_price+coffee_per_flavor_price\n",
    "    \n",
    "    tips= cup_price*0.15\n",
    "        \n",
    "    total_price= round(cup_price+tips, 2)\n",
    "    \n",
    "        \n",
    "    return cup_price, total_price\n",
    "\n",
    "        \n"
   ]
  },
  {
   "cell_type": "code",
   "execution_count": 5,
   "id": "99b51333",
   "metadata": {},
   "outputs": [
    {
     "name": "stdout",
     "output_type": "stream",
     "text": [
      "Hello, and welcome to gourmet coffee shop\n",
      "\n",
      "Do you want small, medium, or large coffee?\n",
      "small\n",
      "Do you want brewed, espresso, or cold press (cold brew)?\n",
      "espresso\n",
      "Do you want a flavored syrup? (Yes or No)\n",
      "yes\n",
      "Do you want hazelnut, vanilla, or caramel?\n",
      "vanilla\n",
      "Your order is small cup of espresso coffee with vanilla syrup.\n",
      "The cost of your cup is 3.0 $\n",
      "The total price including tips is 3.45 $\n"
     ]
    }
   ],
   "source": [
    "#Welcoming Message \n",
    "print(\"Hello, and welcome to gourmet coffee shop\\n\")\n",
    "\n",
    "# Inputs\n",
    "# check the input of size, type and flavour of the coffee \n",
    "# All the letter in the inputs will be lower case how ever the user entered the letters.\n",
    "coffee_size= input(\"Do you want small, medium, or large coffee?\\n\")\n",
    "coffee_size= check_size(coffee_size)\n",
    "\n",
    "coffee_type= input(\"Do you want brewed, espresso, or cold press (cold brew)?\\n\")\n",
    "coffee_type= check_type(coffee_type)\n",
    "\n",
    "coffee_flavor= input(\"Do you want a flavored syrup? (Yes or No)\\n\")\n",
    "coffee_flavor= check_flavor(coffee_flavor)\n",
    "\n",
    "\n",
    "#Ask for the flavor type if yes\n",
    "if (coffee_flavor.lower())==\"yes\":\n",
    "    flavor= input(\"Do you want hazelnut, vanilla, or caramel?\\n\")\n",
    "else:\n",
    "    flavor= \"no\"\n",
    "\n",
    "\n",
    "\n",
    "#Calculating the price\n",
    "cup_price, price_with_tips = get_price(coffee_size, coffee_type, coffee_flavor)\n",
    "\n",
    "\n",
    "#Displays a summary of the user's order\n",
    "print(\"Your order is {} cup of {} coffee with {} syrup.\". format(coffee_size, coffee_type, flavor.lower()))\n",
    "\n",
    "#Displays a total that corresponds to the price of the cup of coffee based on the user's choices\n",
    "print(\"The cost of your cup is {} $\".format(cup_price))\n",
    "\n",
    "# Displays a total that corresponds to the price of the cup of coffee with a 15% tip.\n",
    "print(\"The total price including tips is {} $\".format(price_with_tips))\n"
   ]
  }
 ],
 "metadata": {
  "kernelspec": {
   "display_name": "Python 3",
   "language": "python",
   "name": "python3"
  },
  "language_info": {
   "codemirror_mode": {
    "name": "ipython",
    "version": 3
   },
   "file_extension": ".py",
   "mimetype": "text/x-python",
   "name": "python",
   "nbconvert_exporter": "python",
   "pygments_lexer": "ipython3",
   "version": "3.8.8"
  }
 },
 "nbformat": 4,
 "nbformat_minor": 5
}
